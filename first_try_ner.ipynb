{
 "cells": [
  {
   "cell_type": "code",
   "execution_count": 4,
   "id": "b835bb8b-b39b-454e-a6d2-a434de86d817",
   "metadata": {},
   "outputs": [],
   "source": [
    "import numpy as np"
   ]
  },
  {
   "cell_type": "code",
   "execution_count": 5,
   "id": "8ddc5bf9-61f8-47b6-849c-680fa3952be7",
   "metadata": {},
   "outputs": [
    {
     "name": "stderr",
     "output_type": "stream",
     "text": [
      "/home/teppi/projects/ner/.ner/lib/python3.9/site-packages/tqdm/auto.py:22: TqdmWarning: IProgress not found. Please update jupyter and ipywidgets. See https://ipywidgets.readthedocs.io/en/stable/user_install.html\n",
      "  from .autonotebook import tqdm as notebook_tqdm\n"
     ]
    }
   ],
   "source": [
    "from flair.data import Sentence\n",
    "from flair.models import SequenceTagger"
   ]
  },
  {
   "cell_type": "code",
   "execution_count": 6,
   "id": "8683ee75-f3dc-40fc-9e9d-ead81a916746",
   "metadata": {},
   "outputs": [],
   "source": [
    "from flair.tokenization import SegtokSentenceSplitter"
   ]
  },
  {
   "cell_type": "code",
   "execution_count": 7,
   "id": "7b26218e-a3f4-4047-a409-641ba18f4e34",
   "metadata": {},
   "outputs": [
    {
     "name": "stderr",
     "output_type": "stream",
     "text": [
      "/home/teppi/projects/ner/.ner/lib/python3.9/site-packages/huggingface_hub/file_download.py:629: FutureWarning: `cached_download` is the legacy way to download files from the HF hub, please consider upgrading to `hf_hub_download`\n",
      "  warnings.warn(\n"
     ]
    },
    {
     "name": "stdout",
     "output_type": "stream",
     "text": [
      "2023-01-31 13:36:28,630 loading file /home/teppi/.flair/models/ner-german/a125be40445295f7e94d0afdb742cc9ac40ec4e93259dc30f35220ffad9bf1f6.f46c4c5cfa5e34baa838983373e30051cd1cf1e933499408a49e451e784b0a11\n",
      "2023-01-31 13:36:42,746 SequenceTagger predicts: Dictionary with 20 tags: <unk>, O, B-PER, E-PER, S-LOC, B-MISC, I-MISC, E-MISC, S-PER, B-ORG, E-ORG, S-ORG, I-ORG, B-LOC, E-LOC, S-MISC, I-PER, I-LOC, <START>, <STOP>\n"
     ]
    }
   ],
   "source": [
    "# make a sentence\n",
    "sentence = Sentence('Ich liebe Berlin .')\n",
    "\n",
    "# load the NER tagger\n",
    "tagger = SequenceTagger.load('de-ner')\n",
    "\n",
    "# run NER over sentence\n",
    "tagger.predict(sentence)"
   ]
  },
  {
   "cell_type": "code",
   "execution_count": 8,
   "id": "65bf3a52-d16b-40f9-8ab7-ac4fb88143cc",
   "metadata": {},
   "outputs": [
    {
     "name": "stdout",
     "output_type": "stream",
     "text": [
      "Sentence: \"Ich liebe Berlin .\" → [\"Berlin\"/LOC]\n"
     ]
    }
   ],
   "source": [
    "print(sentence)"
   ]
  },
  {
   "cell_type": "code",
   "execution_count": 9,
   "id": "2a760737-2d80-4c9a-a242-50959f96721e",
   "metadata": {},
   "outputs": [],
   "source": [
    "splitter = SegtokSentenceSplitter()"
   ]
  },
  {
   "cell_type": "code",
   "execution_count": 10,
   "id": "c8ddcd92-6a79-47e5-85eb-81f5c885dc5c",
   "metadata": {},
   "outputs": [],
   "source": [
    "with open('1_Wahlperiode_TXT_sents/1_sents.txt') as f:\n",
    "    contents = f.read()"
   ]
  },
  {
   "cell_type": "code",
   "execution_count": 11,
   "id": "c5dd0440-4806-4d69-9040-8362ba8db462",
   "metadata": {},
   "outputs": [],
   "source": [
    "sentences = splitter.split(contents)"
   ]
  },
  {
   "cell_type": "code",
   "execution_count": 12,
   "id": "f2d86679-2f6e-4fd5-928f-aef9ecddd076",
   "metadata": {},
   "outputs": [],
   "source": [
    "tagger.predict(sentences)"
   ]
  },
  {
   "cell_type": "code",
   "execution_count": 24,
   "id": "257fb1e0-9288-4b89-abba-2ea4272ef41c",
   "metadata": {},
   "outputs": [],
   "source": [
    "ner_dict = []\n",
    "\n",
    "for sentence in sentences:\n",
    "    x = sentence.to_dict(tag_type='ner')\n",
    "    ner_dict.append(x)\n"
   ]
  },
  {
   "cell_type": "code",
   "execution_count": 25,
   "id": "6d0193b6-9c62-43e1-b141-781b1ae9c960",
   "metadata": {},
   "outputs": [
    {
     "data": {
      "text/plain": [
       "[{'value': 'ORG', 'confidence': 0.709118440747261}]"
      ]
     },
     "execution_count": 25,
     "metadata": {},
     "output_type": "execute_result"
    }
   ],
   "source": [
    "ner_dict[0][\"ner\"]"
   ]
  },
  {
   "cell_type": "code",
   "execution_count": 32,
   "id": "4046ff50-d013-4cc8-987f-ac7e20c572ca",
   "metadata": {},
   "outputs": [
    {
     "ename": "TypeError",
     "evalue": "string indices must be integers",
     "output_type": "error",
     "traceback": [
      "\u001b[0;31m---------------------------------------------------------------------------\u001b[0m",
      "\u001b[0;31mTypeError\u001b[0m                                 Traceback (most recent call last)",
      "Cell \u001b[0;32mIn[32], line 5\u001b[0m\n\u001b[1;32m      3\u001b[0m \u001b[38;5;28;01mfor\u001b[39;00m i \u001b[38;5;129;01min\u001b[39;00m ner_dict: \n\u001b[1;32m      4\u001b[0m     \u001b[38;5;28;01mfor\u001b[39;00m j \u001b[38;5;129;01min\u001b[39;00m i:\n\u001b[0;32m----> 5\u001b[0m         \u001b[38;5;28mprint\u001b[39m(\u001b[43mj\u001b[49m\u001b[43m[\u001b[49m\u001b[38;5;124;43m\"\u001b[39;49m\u001b[38;5;124;43mvalue\u001b[39;49m\u001b[38;5;124;43m\"\u001b[39;49m\u001b[43m]\u001b[49m)\n",
      "\u001b[0;31mTypeError\u001b[0m: string indices must be integers"
     ]
    }
   ],
   "source": [
    "ner_dict2 = []\n",
    "\n",
    "for i in ner_dict: \n",
    "    for j in i:\n",
    "        print(j[\"value\"])"
   ]
  },
  {
   "cell_type": "code",
   "execution_count": 3,
   "id": "21d26d18-8029-4789-af84-358c5a3e896d",
   "metadata": {},
   "outputs": [
    {
     "ename": "NameError",
     "evalue": "name 'SequenceTagger' is not defined",
     "output_type": "error",
     "traceback": [
      "\u001b[0;31m---------------------------------------------------------------------------\u001b[0m",
      "\u001b[0;31mNameError\u001b[0m                                 Traceback (most recent call last)",
      "Cell \u001b[0;32mIn[3], line 2\u001b[0m\n\u001b[1;32m      1\u001b[0m \u001b[38;5;66;03m# Funktion lädt das Model. Basic Model wurde für einen ersten Versuch gewählt. \u001b[39;00m\n\u001b[0;32m----> 2\u001b[0m tagger \u001b[38;5;241m=\u001b[39m \u001b[43mSequenceTagger\u001b[49m\u001b[38;5;241m.\u001b[39mload(\u001b[38;5;124m'\u001b[39m\u001b[38;5;124mde-ner\u001b[39m\u001b[38;5;124m'\u001b[39m)\n\u001b[1;32m      4\u001b[0m \u001b[38;5;66;03m# Tokenisierer wird gespeichert und auf den Text angewendet. \u001b[39;00m\n\u001b[1;32m      5\u001b[0m splitter \u001b[38;5;241m=\u001b[39m SegtokSentenceSplitter()\n",
      "\u001b[0;31mNameError\u001b[0m: name 'SequenceTagger' is not defined"
     ]
    }
   ],
   "source": [
    "# Funktion lädt das Model. Basic Model wurde für einen ersten Versuch gewählt. \n",
    "tagger = SequenceTagger.load('de-ner')\n",
    "\n",
    "# Tokenisierer wird gespeichert und auf den Text angewendet. \n",
    "splitter = SegtokSentenceSplitter()\n",
    "sentences = splitter.split(contents)\n",
    "\n",
    "# Dann werden die Entitäts vorhergesagt. \n",
    "tagger.predict(sentences)\n",
    "\n",
    "dict = {}\n",
    "\n",
    "# Über die Textdatei wird iteriert und jede Zeile wird in einem \n",
    "# dict mit text, value und confidence gespeichert.\n",
    "for sentence in sentences:\n",
    "    x = sentence.to_dict(tag_type='ner')\n",
    "    dict.append(x)"
   ]
  },
  {
   "cell_type": "code",
   "execution_count": null,
   "id": "3ce45ee8-3852-4c15-b291-e97a087667d1",
   "metadata": {},
   "outputs": [],
   "source": []
  }
 ],
 "metadata": {
  "kernelspec": {
   "display_name": "Python 3 (ipykernel)",
   "language": "python",
   "name": "python3"
  },
  "language_info": {
   "codemirror_mode": {
    "name": "ipython",
    "version": 3
   },
   "file_extension": ".py",
   "mimetype": "text/x-python",
   "name": "python",
   "nbconvert_exporter": "python",
   "pygments_lexer": "ipython3",
   "version": "3.9.14"
  }
 },
 "nbformat": 4,
 "nbformat_minor": 5
}
