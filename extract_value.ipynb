{
 "cells": [
  {
   "cell_type": "markdown",
   "id": "c99a1baf-1edc-449a-9606-f688beaf0aea",
   "metadata": {},
   "source": [
    "First import necessary methods. "
   ]
  },
  {
   "cell_type": "code",
   "execution_count": 1,
   "id": "df2887b9-1075-44be-91b5-60a79e65eedc",
   "metadata": {},
   "outputs": [
    {
     "name": "stderr",
     "output_type": "stream",
     "text": [
      "/home/teppi/projects/ner/.ner/lib/python3.9/site-packages/tqdm/auto.py:22: TqdmWarning: IProgress not found. Please update jupyter and ipywidgets. See https://ipywidgets.readthedocs.io/en/stable/user_install.html\n",
      "  from .autonotebook import tqdm as notebook_tqdm\n"
     ]
    }
   ],
   "source": [
    "import numpy as np\n",
    "from flair.data import Sentence\n",
    "from flair.models import SequenceTagger\n",
    "from flair.tokenization import SegtokSentenceSplitter"
   ]
  },
  {
   "cell_type": "markdown",
   "id": "03e6a800-2009-48ff-be83-6d3b43bd2828",
   "metadata": {},
   "source": [
    "Save German Baisc NER-Model in Variable tagger."
   ]
  },
  {
   "cell_type": "markdown",
   "id": "2997671b-9b9e-4474-80b6-4b608b6555bb",
   "metadata": {},
   "source": [
    "Import counter for counting values in list & pandas. "
   ]
  },
  {
   "cell_type": "code",
   "execution_count": 50,
   "id": "577e34d1-8dd3-4e4a-aa8d-6af5cf3cb24a",
   "metadata": {},
   "outputs": [],
   "source": [
    "from collections import Counter\n",
    "import pandas as pd"
   ]
  },
  {
   "cell_type": "code",
   "execution_count": 2,
   "id": "05213561-6287-41cc-8bb5-0dcf1bc51f9a",
   "metadata": {},
   "outputs": [
    {
     "name": "stderr",
     "output_type": "stream",
     "text": [
      "/home/teppi/projects/ner/.ner/lib/python3.9/site-packages/huggingface_hub/file_download.py:629: FutureWarning: `cached_download` is the legacy way to download files from the HF hub, please consider upgrading to `hf_hub_download`\n",
      "  warnings.warn(\n"
     ]
    },
    {
     "name": "stdout",
     "output_type": "stream",
     "text": [
      "2023-02-03 12:41:28,559 loading file /home/teppi/.flair/models/ner-german/a125be40445295f7e94d0afdb742cc9ac40ec4e93259dc30f35220ffad9bf1f6.f46c4c5cfa5e34baa838983373e30051cd1cf1e933499408a49e451e784b0a11\n",
      "2023-02-03 12:41:35,342 SequenceTagger predicts: Dictionary with 20 tags: <unk>, O, B-PER, E-PER, S-LOC, B-MISC, I-MISC, E-MISC, S-PER, B-ORG, E-ORG, S-ORG, I-ORG, B-LOC, E-LOC, S-MISC, I-PER, I-LOC, <START>, <STOP>\n"
     ]
    }
   ],
   "source": [
    "tagger = SequenceTagger.load('de-ner')"
   ]
  },
  {
   "cell_type": "markdown",
   "id": "0d415462-560f-430e-ba63-5aa64fd79327",
   "metadata": {},
   "source": [
    "Save Tokenizer in Variable Splitter"
   ]
  },
  {
   "cell_type": "code",
   "execution_count": 3,
   "id": "b7217964-aa7a-4c76-ba1c-6a7073154f62",
   "metadata": {},
   "outputs": [],
   "source": [
    "splitter = SegtokSentenceSplitter()"
   ]
  },
  {
   "cell_type": "markdown",
   "id": "0b6b4cee-6dd9-4298-bbb2-19e0c23bd626",
   "metadata": {
    "tags": []
   },
   "source": [
    "Open first text document, tokenize and predict entities."
   ]
  },
  {
   "cell_type": "code",
   "execution_count": 4,
   "id": "0bc9db58-0085-40ae-b9f8-7ed15f60831e",
   "metadata": {},
   "outputs": [],
   "source": [
    "with open('1_Wahlperiode_TXT_sents/1_sents.txt') as f:\n",
    "    contents = f.read()\n",
    "\n",
    "sentences = splitter.split(contents)\n",
    "\n",
    "tagger.predict(sentences)"
   ]
  },
  {
   "cell_type": "markdown",
   "id": "8fd933a4-4b58-4e22-aefe-c2a7a450d626",
   "metadata": {},
   "source": [
    "Create empty List and save every line in said list."
   ]
  },
  {
   "cell_type": "code",
   "execution_count": 7,
   "id": "73683768-c204-4bb3-8654-092ef0ea50a2",
   "metadata": {
    "tags": []
   },
   "outputs": [
    {
     "data": {
      "text/plain": [
       "[{'text': '1   PLENARPROTOKOLL   01/1   07.09.1949   Plenarprotokoll vom 07.09.1949   Deutscher Bundestag — 1.',\n",
       "  'ner': [{'value': 'ORG', 'confidence': 0.709118440747261}]},\n",
       " {'text': 'Sitzung.', 'ner': []},\n",
       " {'text': 'Bonn, Mittwoch, den 7. September 1949 1   1.',\n",
       "  'ner': [{'value': 'LOC', 'confidence': 0.9994425177574158}]},\n",
       " {'text': 'Sitzung.', 'ner': []},\n",
       " {'text': 'Bonn, Mittwoch, den 7. September 1949.',\n",
       "  'ner': [{'value': 'LOC', 'confidence': 0.9993625283241272}]},\n",
       " {'text': 'Eröffnungsansprache   des Alterspräsidenten Löbe . .',\n",
       "  'ner': [{'value': 'PER', 'confidence': 0.9932059049606323}]},\n",
       " {'text': '.', 'ner': []},\n",
       " {'text': '.', 'ner': []},\n",
       " {'text': '1 B   Namensaufruf der Abgeordneten und Wahl   des Präsidenten  . .',\n",
       "  'ner': []},\n",
       " {'text': '.', 'ner': []}]"
      ]
     },
     "execution_count": 7,
     "metadata": {},
     "output_type": "execute_result"
    }
   ],
   "source": [
    "ner_dict = []\n",
    "\n",
    "for sentence in sentences:\n",
    "    x = sentence.to_dict(tag_type='ner')\n",
    "    ner_dict.append(x)\n",
    "\n",
    "ner_dict[:10]"
   ]
  },
  {
   "cell_type": "markdown",
   "id": "e3a9701f-9924-4f69-9be7-79355917cd73",
   "metadata": {},
   "source": [
    "Task: how to extract value? "
   ]
  },
  {
   "cell_type": "code",
   "execution_count": 15,
   "id": "edeeeb22-f95e-45e4-aeb9-7e2ff8bd860d",
   "metadata": {},
   "outputs": [
    {
     "data": {
      "text/plain": [
       "[{'value': 'ORG', 'confidence': 0.709118440747261}]"
      ]
     },
     "execution_count": 15,
     "metadata": {},
     "output_type": "execute_result"
    }
   ],
   "source": [
    "ner_dict[0][\"ner\"]"
   ]
  },
  {
   "cell_type": "markdown",
   "id": "28ec6261-a629-464c-99f8-e09e9c44d11c",
   "metadata": {},
   "source": [
    "Try: looping over list and extract only the \"ner\"-part"
   ]
  },
  {
   "cell_type": "code",
   "execution_count": 19,
   "id": "e50c185e-f456-4c90-be40-3a0251419dfb",
   "metadata": {},
   "outputs": [
    {
     "data": {
      "text/plain": [
       "[[{'value': 'ORG', 'confidence': 0.709118440747261}],\n",
       " [],\n",
       " [{'value': 'LOC', 'confidence': 0.9994425177574158}],\n",
       " [],\n",
       " [{'value': 'LOC', 'confidence': 0.9993625283241272}],\n",
       " [{'value': 'PER', 'confidence': 0.9932059049606323}],\n",
       " [],\n",
       " [],\n",
       " [],\n",
       " []]"
      ]
     },
     "execution_count": 19,
     "metadata": {},
     "output_type": "execute_result"
    }
   ],
   "source": [
    "value_list = []\n",
    "\n",
    "for i in ner_dict: \n",
    "    value_list.append(i[\"ner\"])\n",
    "    \n",
    "value_list[:10]"
   ]
  },
  {
   "cell_type": "markdown",
   "id": "56535216-33bd-4b5a-828a-854f098540c4",
   "metadata": {},
   "source": [
    "Problem: not getting the text the value is regarded to. "
   ]
  },
  {
   "cell_type": "markdown",
   "id": "280174e1-a799-494b-a270-5eb64ef21b54",
   "metadata": {},
   "source": [
    "Task: How to extract value with text?"
   ]
  },
  {
   "cell_type": "code",
   "execution_count": 26,
   "id": "3f2d22de-e3cf-40a7-b3b1-81130434105d",
   "metadata": {},
   "outputs": [
    {
     "data": {
      "text/plain": [
       "[[Span[9:11]: \"Deutscher Bundestag\" → ORG (0.7091)],\n",
       " [],\n",
       " [Span[0:1]: \"Bonn\" → LOC (0.9994)],\n",
       " [],\n",
       " [Span[0:1]: \"Bonn\" → LOC (0.9994)],\n",
       " [Span[3:4]: \"Löbe\" → PER (0.9932)],\n",
       " [],\n",
       " [],\n",
       " [],\n",
       " []]"
      ]
     },
     "execution_count": 26,
     "metadata": {},
     "output_type": "execute_result"
    }
   ],
   "source": [
    "span_list = []\n",
    "\n",
    "for sentence in sentences: \n",
    "    span_list.append(sentence.get_spans(\"ner\"))\n",
    "\n",
    "span_list[:10]"
   ]
  },
  {
   "cell_type": "markdown",
   "id": "68b692bd-d84a-4999-aa39-ad142b6584e2",
   "metadata": {},
   "source": [
    "Taks: How to process this further?"
   ]
  },
  {
   "cell_type": "markdown",
   "id": "af859638-9dd1-4a76-b566-074cd917d7f9",
   "metadata": {},
   "source": [
    "Two Loops to get every single information extracted from span.\n",
    "Problem: How to save these information effectively? "
   ]
  },
  {
   "cell_type": "code",
   "execution_count": 65,
   "id": "294918cb-f457-4a1c-acca-fe4e3e56cab8",
   "metadata": {
    "collapsed": true,
    "jupyter": {
     "outputs_hidden": true
    },
    "tags": []
   },
   "outputs": [
    {
     "name": "stdout",
     "output_type": "stream",
     "text": [
      "75 94 Deutscher Bundestag ORG 0.709118440747261\n",
      "0 4 Bonn LOC 0.9994425177574158\n",
      "0 4 Bonn LOC 0.9993625283241272\n",
      "44 48 Löbe PER 0.9932059049606323\n",
      "10 18 Adenauer PER 0.9877205491065979\n",
      "20 23 CDU ORG 0.9999992847442627\n",
      "6 13 Reimann PER 0.7673457264900208\n",
      "15 18 KPD ORG 0.9993835687637329\n",
      "22 32 3 B Böhm ORG 0.9083660046259562\n",
      "34 37 SPD ORG 0.9999603033065796\n",
      "51 57 Köhler PER 0.9978362917900085\n",
      "2 16 D Ollenhauer PER 0.527456060051918\n",
      "18 21 SPD ORG 0.9998646974563599\n",
      "35 40 Heuss PER 0.9986020922660828\n",
      "42 45 FDP ORG 0.9999322891235352\n",
      "59 65 Seelos PER 0.9984496831893921\n",
      "67 69 BP ORG 0.8012349009513855\n",
      "73 86 4 B Reimann ORG 0.7959638237953186\n",
      "88 91 KPD ORG 0.9997462630271912\n",
      "105 111 Schmid PER 0.6505678296089172\n",
      "113 116 SPD ORG 0.9999854564666748\n",
      "156 162 Köhler PER 0.9998407363891602\n",
      "25 31 Renner PER 0.9896306395530701\n",
      "33 36 KPD ORG 0.9811169505119324\n",
      "51 61 Ollenhauer PER 0.736710250377655\n",
      "63 66 SPD ORG 0.9998327493667603\n",
      "144 160 Weihe des Hauses MISC 0.9388060569763184\n",
      "176 196 Ludwig van Beethoven PER 0.9997876683870951\n",
      "16 20 Labe PER 0.9263222813606262\n",
      "16 36 Deutschen Bundestags ORG 0.935740053653717\n",
      "54 80 Bundesrepublik Deutschland LOC 0.911908745765686\n",
      "125 131 Berlin LOC 0.9970569610595703\n",
      "117 128 Deutschland LOC 0.9966248273849487\n",
      "134 145 Deutschland LOC 0.9999212026596069\n",
      "212 218 Europa LOC 0.9999631643295288\n",
      "55 73 Deutschen Bewegung ORG 0.8468375504016876\n",
      "82 101 Vereinigten Staaten LOC 0.9623693823814392\n",
      "106 112 Europa LOC 0.9998788833618164\n",
      "133 142 Straßburg LOC 0.9996585845947266\n",
      "102 119 Gesamtdeutschland LOC 0.994616687297821\n",
      "290 310 Deutschen Reichstags ORG 0.663612425327301\n",
      "0 7 Reimann PER 0.9997013211250305\n",
      "0 6 Rische PER 0.6120297908782959\n",
      "85 89 Bonn LOC 0.9928178787231445\n",
      "54 64 Bundestags ORG 0.7001405954360962\n",
      "80 97 Oder-Neiße-Grenze LOC 0.9984820485115051\n",
      "171 179 Nazismus MISC 0.9930283427238464\n",
      "17 21 Löbe PER 0.9996427297592163\n",
      "147 158 Deutschland LOC 0.9999252557754517\n",
      "199 205 Berlin LOC 0.9991455078125\n",
      "56 67 Deutschland LOC 0.998637855052948\n",
      "54 65 Deutschland LOC 0.9999046325683594\n",
      "313 324 Deutschland LOC 0.999795138835907\n",
      "0 11 Deutschland LOC 0.9995324611663818\n",
      "103 122 Vereinigten Staaten LOC 0.981086254119873\n",
      "127 133 Europa LOC 0.9993447661399841\n",
      "35 39 Bonn LOC 0.999649167060852\n",
      "171 177 Arnold PER 0.9997186064720154\n",
      "119 123 Löbe PER 0.9995318651199341\n",
      "238 248 Bundestags ORG 0.9120591282844543\n",
      "123 142 Schlange-Schöningen PER 0.7999200224876404\n",
      "161 175 Louise Albertz PER 0.999046117067337\n",
      "200 206 Dehler PER 0.9968564510345459\n",
      "230 237 Seebohm PER 0.9997559189796448\n",
      "29 48 Schlange-Schöningen PER 0.9995658993721008\n",
      "10 18 Adenauer PER 0.9999573230743408\n",
      "31 39 Adenauer PER 0.9999033212661743\n",
      "4 12 Adenauer PER 0.9971206188201904\n",
      "14 17 CDU ORG 0.9999996423721313\n",
      "44 47 CDU ORG 0.9999991655349731\n",
      "48 51 CSU ORG 0.9999992847442627\n",
      "111 117 Köhler PER 0.9637696743011475\n",
      "6 13 Reimann PER 0.9999827146530151\n",
      "16 20 Löbe PER 0.9997870326042175\n",
      "56 63 Reimann PER 0.9999250173568726\n",
      "0 7 Reimann PER 0.9965595602989197\n",
      "9 12 KPD ORG 0.9999964237213135\n",
      "113 122 Hans Böhm PER 0.9999783635139465\n",
      "16 20 Löbe PER 0.9998650550842285\n",
      "55 64 Hans Böhm PER 0.999980092048645\n",
      "73 79 Köhler PER 0.995684027671814\n",
      "21 40 Schlange-Schöningen PER 0.9990875720977783\n",
      "23 29 Dehler PER 0.9811293482780457\n",
      "6 10 Böhm PER 0.9998726844787598\n",
      "57 61 Böhm PER 0.9998985528945923\n",
      "0 4 Böhm PER 0.9989712238311768\n",
      "6 9 SPD ORG 0.9999992847442627\n",
      "0 7 Reimann PER 0.9996134638786316\n",
      "16 20 Löbe PER 0.999874472618103\n",
      "0 13 Lisa Albrecht PER 0.999369889497757\n",
      "41 47 Köhler PER 0.7090126276016235\n",
      "66 70 Böhm PER 0.9999473094940186\n",
      "25 31 Köhler PER 0.9978704452514648\n",
      "14 20 Köhler PER 0.9977164268493652\n",
      "81 107 Bundesrepublik Deutschland LOC 0.992774486541748\n",
      "15 21 Köhler PER 0.9996336698532104\n",
      "25 35 Ollenhauer PER 0.9999396800994873\n",
      "0 10 Ollenhauer PER 0.9249213337898254\n",
      "12 15 SPD ORG 0.9999995231628418\n",
      "120 132 Carlo Schmid PER 0.995178610086441\n",
      "14 20 Köhler PER 0.9987955093383789\n",
      "4 9 Heuss PER 0.998683750629425\n",
      "11 14 FDP ORG 0.9999997615814209\n",
      "32 49 Freien Demokraten ORG 0.8139714300632477\n",
      "111 118 Schäfer PER 0.9325376749038696\n",
      "14 20 Köhler PER 0.9993762373924255\n",
      "117 124 Schäfer PER 0.9923591017723083\n",
      "42 48 Schmid PER 0.9904036521911621\n",
      "120 127 Schäfer PER 0.9912035465240479\n",
      "10 18 Adenauer PER 0.999994158744812\n",
      "4 10 Seelos PER 0.9993658661842346\n",
      "12 14 BP ORG 0.9989381432533264\n",
      "14 20 Köhler PER 0.9996428489685059\n",
      "0 7 Reimann PER 0.9990654587745667\n",
      "9 12 KPD ORG 0.9999936819076538\n",
      "14 20 Köhler PER 0.999382495880127\n",
      "63 69 Schmid PER 0.9825534224510193\n",
      "58 64 Schmid PER 0.9711562991142273\n",
      "96 106 Bundestags ORG 0.7372466921806335\n",
      "39 45 Schmid PER 0.9999854564666748\n",
      "4 10 Schmid PER 0.961967408657074\n",
      "12 15 SPD ORG 0.9999994039535522\n",
      "14 20 Köhler PER 0.999562680721283\n",
      "108 115 Schäfer PER 0.7062798142433167\n",
      "40 47 Schäfer PER 0.9970431923866272\n",
      "80 90 Bundestags ORG 0.9554958939552307\n",
      "6 12 Renner PER 0.9995999932289124\n",
      "163 172 Gundelach PER 0.9999308586120605\n",
      "174 177 KPD ORG 0.9963221549987793\n",
      "180 187 Matthes PER 0.9999873638153076\n",
      "189 191 DP ORG 0.9997163414955139\n",
      "198 204 Aretin PER 0.9278939962387085\n",
      "206 208 BP ORG 0.9680064916610718\n",
      "215 222 Mießner PER 0.9925056099891663\n",
      "224 227 DRP ORG 0.9997300505638123\n",
      "230 241 Pannebecker PER 0.9999644756317139\n",
      "247 253 Loritz PER 0.9999961853027344\n",
      "255 258 WAV ORG 0.9999209642410278\n",
      "188 214 Bundesrepublik Deutschland LOC 0.9800359010696411\n",
      "113 136 Parlamentarischen Rates ORG 0.6967392265796661\n",
      "140 144 Bonn LOC 0.9994285702705383\n",
      "78 82 Löbe PER 0.999996542930603\n",
      "254 260 Köhler PER 0.9771015048027039\n",
      "53 63 Bundestags ORG 0.8313182592391968\n",
      "294 304 Bundestags ORG 0.6999658942222595\n",
      "28 39 Deutschland LOC 0.7338557839393616\n",
      "90 100 Bundestags ORG 0.7810761332511902\n",
      "34 52 Gesamtdeutschlands LOC 0.9987844824790955\n",
      "105 131 Bundesrepublik Deutschland LOC 0.8134968280792236\n",
      "187 213 Bundesrepublik Deutschland LOC 0.7045776844024658\n",
      "155 173 Gesamtdeutschlands LOC 0.9928769469261169\n",
      "99 106 Berlins LOC 0.9867444634437561\n",
      "32 50 Gesamtdeutschlands LOC 0.9996517896652222\n",
      "171 177 Europa LOC 0.9999774694442749\n",
      "212 219 Europas LOC 0.9999927282333374\n",
      "109 120 Deutschland LOC 0.9972020387649536\n",
      "164 190 Bundesrepublik Deutschland LOC 0.7219825983047485\n",
      "267 274 Europas LOC 0.9999847412109375\n",
      "15 21 Köhler PER 0.9992654919624329\n",
      "49 69 Ludwig van Beethoven PER 0.9998013774553934\n",
      "70 73 CDU ORG 0.9999856948852539\n",
      "74 77 CSU ORG 0.9999915361404419\n",
      "86 89 SPD ORG 0.9999996423721313\n",
      "117 120 FDP ORG 0.9999970197677612\n",
      "193 196 CDU ORG 0.9999996423721313\n",
      "197 200 CSU ORG 0.9999984502792358\n",
      "207 210 SPD ORG 0.9999929666519165\n",
      "217 220 FDP ORG 0.9999971389770508\n",
      "6 12 Renner PER 0.9999071359634399\n",
      "27 33 Renner PER 0.9999850988388062\n",
      "0 6 Renner PER 0.9976481795310974\n",
      "8 11 KPD ORG 0.9999969005584717\n",
      "14 20 Köhler PER 0.9983149766921997\n",
      "6 12 Renner PER 0.999629020690918\n",
      "6 12 Renner PER 0.999894380569458\n",
      "0 10 Ollenhauer PER 0.9944770932197571\n",
      "27 37 Ollenhauer PER 0.9999535083770752\n",
      "0 10 Ollenhauer PER 0.9693980813026428\n",
      "12 15 SPD ORG 0.9999973773956299\n",
      "54 63 Bundestag ORG 0.5754390954971313\n",
      "142 160 Deutsche Bundestag ORG 0.873703122138977\n",
      "155 162 Europas LOC 0.999994158744812\n",
      "187 198 Deutschland LOC 0.9999068975448608\n",
      "0 6 Europa LOC 0.9998877048492432\n",
      "45 61 Vereinigten Stab ORG 0.9337255358695984\n",
      "129 136 England LOC 0.9999175071716309\n",
      "42 53 Frankreichs LOC 0.9999963045120239\n",
      "55 70 Großbritanniens LOC 0.9999955892562866\n",
      "79 98 Vereinigten Staaten LOC 0.9977356195449829\n",
      "103 110 Amerika LOC 0.6946967244148254\n",
      "31 45 Arbeiterpartei ORG 0.9479601979255676\n",
      "49 56 England LOC 0.9999912977218628\n",
      "1 11 Ollenhauer PER 0.9981312155723572\n",
      "138 149 Groß-Berlin LOC 0.9995937943458557\n",
      "246 250 Bonn LOC 0.9976704716682434\n",
      "256 265 Frankfurt LOC 0.9934808015823364\n",
      "14 20 Köhler PER 0.9990969896316528\n",
      "0 6 Renner PER 0.9988510608673096\n",
      "8 11 KPD ORG 0.9999915361404419\n",
      "5 11 Seelos PER 0.9997739195823669\n",
      "14 20 Köhler PER 0.9988396763801575\n",
      "52 72 Deutschen Bundestags ORG 0.5056337118148804\n",
      "77 103 Bundesrepublik Deutschland LOC 0.9955390393733978\n"
     ]
    }
   ],
   "source": [
    "for sentence in sentences: \n",
    "    for entity in sentence.get_spans(\"ner\"):\n",
    "        \n",
    "        start_position = entity.start_position\n",
    "        end_position = entity.end_position\n",
    "        text = entity.text\n",
    "        value = entity.get_label(\"ner\").value\n",
    "        score = entity.get_label(\"ner\").score\n",
    "        \n",
    "        \n",
    "        \n",
    "        print(start_position, end_position, text, value, score)"
   ]
  },
  {
   "cell_type": "markdown",
   "id": "a8cdb9cb-1174-4a2b-b624-53dab88e9dc5",
   "metadata": {},
   "source": [
    "Idea: creating empty lists in which every Entity can be saved respectively.\n",
    "Again: Nested looping.\n",
    "Then, saving text and value in respective variables. \n",
    "With if-clause checking after Entity and append that Entity into right list. "
   ]
  },
  {
   "cell_type": "code",
   "execution_count": 63,
   "id": "e11151a9-22a0-4244-93d8-980c15ec575a",
   "metadata": {},
   "outputs": [],
   "source": [
    "ORG_list = []\n",
    "PER_list = []\n",
    "LOC_list = []\n",
    "\n",
    "for sentence in sentences: \n",
    "    for entity in sentence.get_spans(\"ner\"): \n",
    "        text = entity.text\n",
    "        value = entity.get_label(\"ner\").value\n",
    "        \n",
    "        if value == \"ORG\": \n",
    "            ORG_list.append(text)\n",
    "        elif value == \"PER\":\n",
    "            PER_list.append(text)\n",
    "        elif value == \"LOC\":\n",
    "            LOC_list.append(text)"
   ]
  },
  {
   "cell_type": "markdown",
   "id": "d1a70096-aa57-46bf-ae0c-1538fb6eb5a1",
   "metadata": {},
   "source": [
    "Count unique values of ORG_list. "
   ]
  },
  {
   "cell_type": "code",
   "execution_count": 64,
   "id": "70fa546c-c01b-4ffe-9604-97a9e56ecb82",
   "metadata": {},
   "outputs": [
    {
     "data": {
      "text/plain": [
       "Counter({'Deutscher Bundestag': 1,\n",
       "         'CDU': 5,\n",
       "         'KPD': 8,\n",
       "         '3 B Böhm': 1,\n",
       "         'SPD': 10,\n",
       "         'FDP': 4,\n",
       "         'BP': 3,\n",
       "         '4 B Reimann': 1,\n",
       "         'Deutschen Bundestags': 2,\n",
       "         'Deutschen Bewegung': 1,\n",
       "         'Deutschen Reichstags': 1,\n",
       "         'Bundestags': 7,\n",
       "         'CSU': 3,\n",
       "         'Freien Demokraten': 1,\n",
       "         'DP': 1,\n",
       "         'DRP': 1,\n",
       "         'WAV': 1,\n",
       "         'Parlamentarischen Rates': 1,\n",
       "         'Bundestag': 1,\n",
       "         'Deutsche Bundestag': 1,\n",
       "         'Vereinigten Stab': 1,\n",
       "         'Arbeiterpartei': 1})"
      ]
     },
     "execution_count": 64,
     "metadata": {},
     "output_type": "execute_result"
    }
   ],
   "source": [
    "Counter(ORG_list)"
   ]
  },
  {
   "cell_type": "markdown",
   "id": "82361d7b-f442-49be-b938-67ef7d7c739b",
   "metadata": {},
   "source": [
    "Count unique values of PER_list."
   ]
  },
  {
   "cell_type": "code",
   "execution_count": 60,
   "id": "bb28f6cf-221a-48cf-9ff9-9e210e16f475",
   "metadata": {},
   "outputs": [
    {
     "data": {
      "text/plain": [
       "Counter({'Löbe': 7,\n",
       "         'Adenauer': 5,\n",
       "         'Reimann': 7,\n",
       "         'Köhler': 18,\n",
       "         'D Ollenhauer': 1,\n",
       "         'Heuss': 2,\n",
       "         'Seelos': 3,\n",
       "         'Schmid': 6,\n",
       "         'Renner': 8,\n",
       "         'Ollenhauer': 7,\n",
       "         'Ludwig van Beethoven': 2,\n",
       "         'Labe': 1,\n",
       "         'Rische': 1,\n",
       "         'Arnold': 1,\n",
       "         'Schlange-Schöningen': 3,\n",
       "         'Louise Albertz': 1,\n",
       "         'Dehler': 2,\n",
       "         'Seebohm': 1,\n",
       "         'Hans Böhm': 2,\n",
       "         'Böhm': 4,\n",
       "         'Lisa Albrecht': 1,\n",
       "         'Carlo Schmid': 1,\n",
       "         'Schäfer': 5,\n",
       "         'Gundelach': 1,\n",
       "         'Matthes': 1,\n",
       "         'Aretin': 1,\n",
       "         'Mießner': 1,\n",
       "         'Pannebecker': 1,\n",
       "         'Loritz': 1})"
      ]
     },
     "execution_count": 60,
     "metadata": {},
     "output_type": "execute_result"
    }
   ],
   "source": [
    "Counter(PER_list)"
   ]
  },
  {
   "cell_type": "markdown",
   "id": "2ae70827-2281-474b-bb65-d452052178eb",
   "metadata": {},
   "source": [
    "Count unique values of LOC_list."
   ]
  },
  {
   "cell_type": "code",
   "execution_count": 62,
   "id": "cf708027-8d61-4ce8-82ef-9111aeee0b9f",
   "metadata": {},
   "outputs": [
    {
     "data": {
      "text/plain": [
       "Counter({'Bonn': 6,\n",
       "         'Bundesrepublik Deutschland': 7,\n",
       "         'Berlin': 2,\n",
       "         'Deutschland': 10,\n",
       "         'Europa': 5,\n",
       "         'Vereinigten Staaten': 3,\n",
       "         'Straßburg': 1,\n",
       "         'Gesamtdeutschland': 1,\n",
       "         'Oder-Neiße-Grenze': 1,\n",
       "         'Gesamtdeutschlands': 3,\n",
       "         'Berlins': 1,\n",
       "         'Europas': 3,\n",
       "         'England': 2,\n",
       "         'Frankreichs': 1,\n",
       "         'Großbritanniens': 1,\n",
       "         'Amerika': 1,\n",
       "         'Groß-Berlin': 1,\n",
       "         'Frankfurt': 1})"
      ]
     },
     "execution_count": 62,
     "metadata": {},
     "output_type": "execute_result"
    }
   ],
   "source": [
    "Counter(LOC_list)"
   ]
  },
  {
   "cell_type": "markdown",
   "id": "7fa56e94-9634-4c31-932a-6c2e104808b6",
   "metadata": {},
   "source": [
    "Mention: Loosing start & end position, as well as confidence score, but is this important for further processing? "
   ]
  },
  {
   "cell_type": "markdown",
   "id": "6c07aa9d-db64-4cf0-adfa-f61274a109a0",
   "metadata": {},
   "source": [
    "Next task: is this applicable for more than one text? "
   ]
  }
 ],
 "metadata": {
  "kernelspec": {
   "display_name": "Python 3 (ipykernel)",
   "language": "python",
   "name": "python3"
  },
  "language_info": {
   "codemirror_mode": {
    "name": "ipython",
    "version": 3
   },
   "file_extension": ".py",
   "mimetype": "text/x-python",
   "name": "python",
   "nbconvert_exporter": "python",
   "pygments_lexer": "ipython3",
   "version": "3.9.14"
  }
 },
 "nbformat": 4,
 "nbformat_minor": 5
}
